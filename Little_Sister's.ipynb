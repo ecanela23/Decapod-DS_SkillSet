{
 "cells": [
  {
   "cell_type": "code",
   "execution_count": null,
   "id": "2870d43f-7b72-48f3-8b61-9f56faf4f0c5",
   "metadata": {},
   "outputs": [],
   "source": [
    "# Little Sister's Vocabulary\n",
    "## Task I Add a prefix to a word\n",
    "### Implement the add_prefix_un(<word>) function that takes a word as a parameter and returns a new unprefixed word:"
   ]
  },
  {
   "cell_type": "code",
   "execution_count": 22,
   "id": "fed4d42a-6571-4adb-a0bb-0ecd63804861",
   "metadata": {},
   "outputs": [
    {
     "name": "stdout",
     "output_type": "stream",
     "text": [
      "undescribable\n",
      "unhappy\n",
      "unmanageable\n"
     ]
    }
   ],
   "source": [
    "def add_prefix_un (word):\n",
    "    return \"un\" + word\n",
    "\n",
    "print (add_prefix_un(\"describable\"))\n",
    "print (add_prefix_un (\"happy\"))\n",
    "print (add_prefix_un (\"manageable\"))"
   ]
  },
  {
   "cell_type": "code",
   "execution_count": null,
   "id": "b3ae0e2e-6f4b-4f23-9e44-34dd92f99be6",
   "metadata": {},
   "outputs": [],
   "source": [
    "# Task II: Add prefixes to word groups\n",
    "##Implement the make_word_groups(<vocab_words>) function that takes a vocab_words as a parameter in the following form: [<prefix>, <word_1>, <word_2> .... <word_n>]"
   ]
  },
  {
   "cell_type": "code",
   "execution_count": 11,
   "id": "ef453355-252a-4a1b-9fd7-158bdb4fd8cd",
   "metadata": {},
   "outputs": [
    {
     "name": "stdout",
     "output_type": "stream",
     "text": [
      "en::enclose::enjoy::enlighten\n",
      "pre::preserve::predispose::preposition\n",
      "auto::autodidactic::autograph::automate\n",
      "inter::intertwine::interconnected::interdependent\n"
     ]
    }
   ],
   "source": [
    "def make_word_groups (vocab_words):\n",
    "    prefix = vocab_words [0]\n",
    "    return '::'.join([prefix] + [prefix + word for word in vocab_words[1:]])\n",
    "\n",
    "# Test cases for make_word_groups\n",
    "\n",
    "print(make_word_groups(['en', 'close', 'joy', 'lighten']))  # en :: enclose :: enjoy :: enlighten\n",
    "print(make_word_groups(['pre', 'serve', 'dispose', 'position']))  # pre :: preserve :: predispose :: preposition\n",
    "print(make_word_groups(['auto', 'didactic', 'graph', 'mate']))  # auto :: autodidactic :: autograph :: automate\n",
    "print(make_word_groups(['inter', 'twine', 'connected', 'dependent']))  # inter :: intertwine :: interconnected :: interdependent"
   ]
  },
  {
   "cell_type": "code",
   "execution_count": null,
   "id": "bceb3a1b-3239-4642-8647-0c196448b455",
   "metadata": {},
   "outputs": [],
   "source": [
    "# Task III: Remove a suffix from a word\n",
    "## Implement the remove_suffix_ness(<word>) function that takes in a word, and returns the root word without the ness suffix."
   ]
  },
  {
   "cell_type": "code",
   "execution_count": 14,
   "id": "2bd79026-0d52-413c-87f1-063dc52423c1",
   "metadata": {},
   "outputs": [
    {
     "name": "stdout",
     "output_type": "stream",
     "text": [
      "heavy\n",
      "sad\n"
     ]
    }
   ],
   "source": [
    "def remove_suffix_ness (word):\n",
    "    if word.endswith('ness'):\n",
    "        root_word = word[:-4]\n",
    "        if root_word.endswith ('i'):\n",
    "            root_word = root_word [:-1] + 'y'\n",
    "        return root_word\n",
    "        return word\n",
    "\n",
    "# Test cases for remove_suffix_ness\n",
    "print(remove_suffix_ness(\"heaviness\"))  # heavy\n",
    "print(remove_suffix_ness(\"sadness\"))  # sad"
   ]
  },
  {
   "cell_type": "code",
   "execution_count": null,
   "id": "938db25e-4f41-442a-8a44-fae14c253941",
   "metadata": {},
   "outputs": [],
   "source": [
    "# Task IV: Extract and transform a word\n",
    "## Implement the adjective_to_verb(<sentence>, <index>) function that takes two parameters. "
   ]
  },
  {
   "cell_type": "code",
   "execution_count": 23,
   "id": "f049cd03-d302-4714-9533-b2d326e7c00c",
   "metadata": {},
   "outputs": [
    {
     "name": "stdout",
     "output_type": "stream",
     "text": [
      "brighten\n",
      "darken\n"
     ]
    }
   ],
   "source": [
    "def adjective_to_verb(sentence, index):\n",
    "    words = sentence.split()\n",
    "    adjective = words[index]\n",
    "    return adjective + 'en'\n",
    "\n",
    "# Test cases for adjective_to_verb\n",
    "print(adjective_to_verb('I need to make that bright', -1))  # brighten\n",
    "print(adjective_to_verb('It got dark as the sun set.', 2))  # darken"
   ]
  },
  {
   "cell_type": "code",
   "execution_count": 25,
   "id": "3e668ead-d3a9-400c-b622-693061986729",
   "metadata": {},
   "outputs": [
    {
     "name": "stdout",
     "output_type": "stream",
     "text": [
      "My Hobbies\n",
      "True\n",
      "False\n",
      "I like to go on hikes with my dog.\n",
      "I bake amazing cakes.\n",
      "She is a great person and a great friend.\n"
     ]
    }
   ],
   "source": [
    "# Capitalize the Title of the Paper\n",
    "\n",
    "def capitalize_title(title):\n",
    "    return title.title()\n",
    "\n",
    "# Check if Each Sentence Ends with a Period\n",
    "\n",
    "def check_sentence_ending(sentence):\n",
    "    return sentence.endswith('.')\n",
    "    \n",
    "# Clean Up Spacing\n",
    "\n",
    "def clean_up_spacing(sentence):\n",
    "    return sentence.strip()\n",
    "    \n",
    "# Replace Words with a Synonym\n",
    "\n",
    "def replace_word_choice(sentence, old_word, new_word):\n",
    "    return sentence.replace(old_word, new_word)\n",
    "\n",
    "# Test cases for capitalize_title\n",
    "print(capitalize_title(\"my hobbies\"))  # Should print 'My Hobbies'\n",
    "\n",
    "# Test cases for check_sentence_ending\n",
    "print(check_sentence_ending(\"I like to hike, bake, and read.\"))  # Should print True\n",
    "print(check_sentence_ending(\"I like to hike, bake, and read\"))  # Should print False\n",
    "\n",
    "# Test cases for clean_up_spacing\n",
    "print(clean_up_spacing(\" I like to go on hikes with my dog.  \"))  # Should print 'I like to go on hikes with my dog.'\n",
    "\n",
    "# Test cases for replace_word_choice\n",
    "print(replace_word_choice(\"I bake good cakes.\", \"good\", \"amazing\"))  # Should print 'I bake amazing cakes.'\n",
    "print(replace_word_choice(\"She is a good person and a good friend.\", \"good\", \"great\"))  # Should print 'She is a great person and a great friend.'\n",
    "\n"
   ]
  }
 ],
 "metadata": {
  "kernelspec": {
   "display_name": "Python 3 (ipykernel)",
   "language": "python",
   "name": "python3"
  },
  "language_info": {
   "codemirror_mode": {
    "name": "ipython",
    "version": 3
   },
   "file_extension": ".py",
   "mimetype": "text/x-python",
   "name": "python",
   "nbconvert_exporter": "python",
   "pygments_lexer": "ipython3",
   "version": "3.11.7"
  }
 },
 "nbformat": 4,
 "nbformat_minor": 5
}
