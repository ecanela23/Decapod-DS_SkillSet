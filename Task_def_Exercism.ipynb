{
 "cells": [
  {
   "cell_type": "code",
   "execution_count": 8,
   "id": "127fc3a6-d69c-4051-bdbc-7b794f980b61",
   "metadata": {},
   "outputs": [
    {
     "name": "stdout",
     "output_type": "stream",
     "text": [
      "Hello world!\n"
     ]
    }
   ],
   "source": [
    "# Task I (Using Markdowns for notes and references)\n",
    "\n",
    "def hello ():\n",
    "    return 'Hello world!'\n",
    "\n",
    "print (hello())"
   ]
  },
  {
   "cell_type": "code",
   "execution_count": 9,
   "id": "e792f950-95b0-4d93-8171-b8ccb92a491d",
   "metadata": {},
   "outputs": [
    {
     "name": "stdout",
     "output_type": "stream",
     "text": [
      "10\n"
     ]
    }
   ],
   "source": [
    "# Task II Guido's Gorgeous Lasagna (Basics)\n",
    "\n",
    "Expected_Bake_Time = 40\n",
    "\n",
    "def Bake_Time_Remaining (Elapsed_Bake_Time):\n",
    "    return max (0, Expected_Bake_Time - Elapsed_Bake_Time)\n",
    "print (Bake_Time_Remaining (30))\n"
   ]
  },
  {
   "cell_type": "code",
   "execution_count": 12,
   "id": "e284c7d5-6ff5-4584-86c5-c22e8690f463",
   "metadata": {},
   "outputs": [
    {
     "name": "stdout",
     "output_type": "stream",
     "text": [
      "8\n"
     ]
    }
   ],
   "source": [
    "# Task II Guido's Gorgeous Lasagna (Basics)\n",
    "\n",
    "def Preparation_Time_In_Minutes (Number_Of_Layers):\n",
    "    return Number_Of_Layers * 2\n",
    "\n",
    "print (Preparation_Time_In_Minutes (4))"
   ]
  },
  {
   "cell_type": "code",
   "execution_count": 59,
   "id": "559d86c2-bb0e-4a9d-9938-fc9f229688dd",
   "metadata": {},
   "outputs": [
    {
     "name": "stdout",
     "output_type": "stream",
     "text": [
      "26\n"
     ]
    }
   ],
   "source": [
    "# Task II Guido's Gorgeous Lasagna (Basics)\n",
    "\n",
    "def Elapsed_Time_In_Minutes(Number_Of_Layers, Elapsed_Bake_Time):\n",
    "    return Preparation_Time_In_Minutes (Number_Of_Layers) + Elapsed_Bake_Time\n",
    "\n",
    "print (Elapsed_Time_In_Minutes (3, 20))"
   ]
  },
  {
   "cell_type": "code",
   "execution_count": 79,
   "id": "51b228ed-763f-4b5f-b676-6df422286556",
   "metadata": {},
   "outputs": [
    {
     "name": "stdout",
     "output_type": "stream",
     "text": [
      "False\n",
      "True\n",
      "True\n",
      "False\n"
     ]
    }
   ],
   "source": [
    "# Ghost Gobble Arcade Game (Boolean Practice)\n",
    "\n",
    "## Define if Pac-Man eats a ghost\n",
    "\n",
    "def eat_ghost (power_pellet_active, touching_ghost):\n",
    "    return power_pellet_active and touching_ghost\n",
    "\n",
    "## Define if Pac-Man Scores\n",
    "\n",
    "def score (touching_power_pellet, touching_dot):\n",
    "    return touching_power_pellet or touching_dot\n",
    "\n",
    "## Define if Pac-Man Loses\n",
    "\n",
    "def lose (power_pellet_active, touching_ghost):\n",
    "    return touching_ghost and not power_pellet_active\n",
    "\n",
    "## Define if Pac-Man Wins\n",
    "\n",
    "def win (eaten_all_dots, power_pellet_active, touching_ghost):\n",
    "    return eaten_all_dots and not lose (power_pellet_active, touching_ghost)\n",
    "\n",
    "print (eat_ghost (False, True))\n",
    "print (score (True, False))\n",
    "print (lose (False, True))\n",
    "print (win (False, True, False))\n",
    "\n",
    "\n",
    "# Explanation:\n",
    "# eat_ghost(False, True) should return False because Pac-Man doesn't have a power pellet\n",
    "# score(True, False) should return True because Pac-Man is touching a power pellet (one of two possible options)\n",
    "# lose(False, True) should return True because Pac-Man is touching a ghost without an active power pellet\n",
    "# win(False, True, False) should return False because Pac-Man hasn't eaten all the dots (Which is a requirement to win)"
   ]
  },
  {
   "cell_type": "code",
   "execution_count": null,
   "id": "16dd7d7d-81e0-42eb-9bd0-a5a295a37fad",
   "metadata": {},
   "outputs": [],
   "source": []
  },
  {
   "cell_type": "code",
   "execution_count": 84,
   "id": "7446dde4-8b45-4536-9300-5ef2f11d5532",
   "metadata": {},
   "outputs": [
    {
     "name": "stdout",
     "output_type": "stream",
     "text": [
      "106.25\n",
      "7.5\n",
      "640\n",
      "25\n",
      "7.5\n",
      "80\n",
      "95\n"
     ]
    }
   ],
   "source": [
    "# Currency Exchange (Numbers practice: Ints & Floats)\n",
    "\n",
    "#Estimate value after an exchange creating exchange_money with two parameters: budget & exchange_rate\n",
    "\n",
    "def exchange_money (budget, exchange_rate):\n",
    "    return budget / exchange_rate\n",
    "\n",
    "# Calculate currency left after an exchange creating get_change with two parameters: budget & exchanging_value\n",
    "\n",
    "def get_change (budget, exchanging_value):\n",
    "    return budget - exchanging_value\n",
    "\n",
    "# Calculate the value of bills creating get_value_of_bills with two parameter: denomination & numbers_of_bills\n",
    "\n",
    "def get_value_of_bills (denomination, number_of_bills):\n",
    "    return denomination * number_of_bills\n",
    "\n",
    "# Calculate the number of bills creating get_number_of_bills() with two parameters: amount & denomination\n",
    "\n",
    "def get_number_of_bills (amount, denomination):\n",
    "    return int (amount // denomination)\n",
    "\n",
    "#Calculate leftover after exchanging into bills creating get_leftover_of_bills() function, with two parameters: amount & denomination.\n",
    "\n",
    "def get_leftover_of_bills (amount, denomination):\n",
    "    return amount % denomination\n",
    "\n",
    "# Calculate value after exchange creating the exchangeable_value() function, the actual_exchange_rate function,and the exchanged_amount function , with the parameters budget, exchange_rate, spread, and denomination.\n",
    "\n",
    "def exchangeable_value (budget, exchange_rate, spread, denomination):\n",
    "    actual_exchange_rate = exchange_rate * (1 + spread/ 100)\n",
    "    exchanged_amount = budget / actual_exchange_rate\n",
    "    return int (exchanged_amount // denomination * denomination)\n",
    "\n",
    "\n",
    " \n",
    "print(exchange_money(127.5, 1.2))       # Output: 106.25\n",
    "print(get_change(127.5, 120))           # Output: 7.5\n",
    "print(get_value_of_bills(5, 128))       # Output: 640\n",
    "print(get_number_of_bills(127.5, 5))    # Output: 25\n",
    "print(get_leftover_of_bills(127.5, 20)) # Output: 7.5\n",
    "print(exchangeable_value(127.25, 1.20, 10, 20)) # Output: 80\n",
    "print(exchangeable_value(127.25, 1.20, 10, 5))  # Output: 95\n",
    "\n",
    "# Explanation:\n",
    "\n",
    "#This function should return the value of the exchanged currency.\n",
    "# Note: If your currency is USD and you want to exchange USD for EUR with an exchange rate of 1.20, then 1.20 USD == 1 EUR.\n",
    "\n",
    "#Parameter spread is the percentage taken as an exchange fee, written as an integer. It needs to be converted to decimal by dividing it by 100.\n",
    "#If 1.00 EUR == 1.20 USD and the spread is 10, the actual exchange rate will be: 1.00 EUR == 1.32 USD because 10% of 1.20 is 0.12, and this additional fee is added to the exchange.\n",
    "#This function should return the maximum value of the new currency after calculating the exchange rate plus the spread.\n",
    "#Remember that the currency denomination is a whole number, and cannot be sub-divided.\n",
    "#Note: Returned value should be int type.\n",
    "\n",
    "\n",
    "\n"
   ]
  },
  {
   "cell_type": "code",
   "execution_count": 87,
   "id": "fec2de52-cec3-4521-9b27-c55056623d53",
   "metadata": {},
   "outputs": [
    {
     "name": "stdout",
     "output_type": "stream",
     "text": [
      "True\n"
     ]
    }
   ],
   "source": [
    "#Meltdown Mitigation (Conditionals practices) Task 1\n",
    "\n",
    "##Check for Criticality by creating the is_criticality_balanced function \n",
    "##checks if the reactor's state meets the criticality condition with two parameters: temperature (750) measured in kelvin and neutrons_emitted (600)\n",
    "##Returns True if the criticality conditions are met, False if not.\n",
    "## A reactor is said to be critical if it satisfies the following conditions: temperature is less than 800 K, and neutrons emitted per second are greater than 500.\n",
    "## The product of temperature and neutrons emitted per second has to be less than 500000.\n",
    "\n",
    "def is_criticality_balanced (temperature, neutrons_emitted):\n",
    "    return (temperature < 800 and neutrons_emitted > 500 and temperature * neutrons_emitted < 500000)\n",
    "\n",
    "print (is_criticality_balanced (750, 600))\n"
   ]
  },
  {
   "cell_type": "code",
   "execution_count": 113,
   "id": "be5eaaa1-044f-4578-8637-23246240a397",
   "metadata": {},
   "outputs": [
    {
     "name": "stdout",
     "output_type": "stream",
     "text": [
      "orange\n"
     ]
    }
   ],
   "source": [
    "#Meltdown Mitigation (Conditionals practices) Task 2\n",
    "\n",
    "## Determine the Power output range\n",
    "## Once the reactor has started producing power its efficiency needs to be determined. Efficiency can be grouped into 4 bands:\n",
    "\n",
    "### green -> efficiency of 80% or more,\n",
    "### orange -> efficiency of less than 80% but at least 60%,\n",
    "### red -> efficiency below 60%, but still 30% or more,\n",
    "### black -> less than 30% efficient.\n",
    "\n",
    "#### The percentage value can be calculated as (generated_power/theoretical_max_power)*100 where generated_power = voltage * current.\n",
    "#### Note that the percentage value is usually not an integer number, make sure to consider the proper use of the < and <= comparisons.\n",
    "#### Implement the function reactor_efficiency(<voltage>, <current>, <theoretical_max_power>), with three parameters: voltage, current, and theoretical_max_power.\n",
    "#### This function should return the efficiency band of the reactor: 'green', 'orange', 'red', or 'black'.\n",
    "\n",
    "#reactor_efficiency(200,50,15000)\n",
    "\n",
    "# Calculate the reactor_efficiency using voltage, current, theoretical_max_power as parameters\n",
    "\n",
    "def reactor_efficiency (voltage, current, theoretical_max_power):\n",
    "    generated_power = voltage * current\n",
    "    efficiency = (generated_power / theoretical_max_power) * 100\n",
    "    \n",
    "    if efficiency>=80:\n",
    "        return\"green\"\n",
    "    \n",
    "    elif efficiency>=60:\n",
    "        return \"orange\"\n",
    "    \n",
    "    elif efficiency>=30:\n",
    "        return \"red\"\n",
    "    \n",
    "    else:\n",
    "        return \"black\"\n",
    "\n",
    "print (reactor_efficiency(200,50,15000))"
   ]
  },
  {
   "cell_type": "code",
   "execution_count": 117,
   "id": "d9caf220-ffaf-4f5f-b9de-0354593997e4",
   "metadata": {},
   "outputs": [
    {
     "name": "stdout",
     "output_type": "stream",
     "text": [
      "DANGER\n"
     ]
    }
   ],
   "source": [
    "#Meltdown Mitigation (Conditionals practices) Task 3\n",
    "\n",
    "## Create fail_safe(), which takes 3 parameters: temperature measured in kelvin, neutrons_produced_per_second, and threshold.\n",
    "\n",
    "def fail_safe (temperature, neutrons_produced_per_second, threshold):\n",
    "    power_production = temperature * neutrons_produced_per_second\n",
    "    lower_bound = 0.9 * threshold\n",
    "    upper_bound = 1.1 * threshold\n",
    "\n",
    "    if power_production < lower_bound:\n",
    "        return 'LOW'\n",
    "    elif lower_bound <= power_production <= upper_bound:\n",
    "        return 'NORMAL'\n",
    "    else:\n",
    "        return 'DANGER'\n",
    "\n",
    "print(fail_safe(temperature=1000, neutrons_produced_per_second=30, threshold=5000))  # Output: 'DANGER'\n",
    "\n"
   ]
  },
  {
   "cell_type": "code",
   "execution_count": null,
   "id": "0ef9adca-59e6-44e1-8bdd-d477df28327b",
   "metadata": {},
   "outputs": [],
   "source": []
  }
 ],
 "metadata": {
  "kernelspec": {
   "display_name": "Python 3 (ipykernel)",
   "language": "python",
   "name": "python3"
  },
  "language_info": {
   "codemirror_mode": {
    "name": "ipython",
    "version": 3
   },
   "file_extension": ".py",
   "mimetype": "text/x-python",
   "name": "python",
   "nbconvert_exporter": "python",
   "pygments_lexer": "ipython3",
   "version": "3.11.7"
  }
 },
 "nbformat": 4,
 "nbformat_minor": 5
}
