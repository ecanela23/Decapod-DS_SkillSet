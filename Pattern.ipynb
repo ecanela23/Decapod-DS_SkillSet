{
 "cells": [
  {
   "cell_type": "code",
   "execution_count": 4,
   "id": "4f15ab53-471c-4ac5-b214-900282c402d1",
   "metadata": {},
   "outputs": [
    {
     "name": "stdout",
     "output_type": "stream",
     "text": [
      "         *\n",
      "        ***\n",
      "       *****\n",
      "      *******\n",
      "     *********\n",
      "    ***********\n",
      "   *************\n",
      "  ***************\n",
      " *****************\n",
      "*******************\n",
      " *****************\n",
      "  ***************\n",
      "   *************\n",
      "    ***********\n",
      "     *********\n",
      "      *******\n",
      "       *****\n",
      "        ***\n",
      "         *\n"
     ]
    }
   ],
   "source": [
    "#Pattern in Python Diamond\n",
    "\n",
    "def print_diamond(rows):\n",
    "    # Print the top half of the diamond\n",
    "    for i in range(1, rows + 1):\n",
    "        print(\" \" * (rows - i) + \"*\" * (2 * i - 1))\n",
    "        \n",
    "    # Print the bottom half of the diamond\n",
    "    for i in range(rows - 1, 0, -1):\n",
    "        print(\" \" * (rows - i) + \"*\" * (2 * i - 1))\n",
    "\n",
    "# Call the function to print a diamond with 5 rows\n",
    "print_diamond(10)\n"
   ]
  },
  {
   "cell_type": "code",
   "execution_count": 2,
   "id": "dc474348-fb6b-480f-967b-506c89af4212",
   "metadata": {},
   "outputs": [
    {
     "name": "stdout",
     "output_type": "stream",
     "text": [
      "**********\n",
      "*        *\n",
      "*        *\n",
      "*        *\n",
      "*        *\n",
      "*        *\n",
      "*        *\n",
      "*        *\n",
      "*        *\n",
      "**********\n"
     ]
    }
   ],
   "source": [
    "#Pattern in Python Square\n",
    "\n",
    "def print_hollow_square (rows):\n",
    "    for i in range (rows):\n",
    "        if i==0 or i== rows-1:\n",
    "            print (\"*\" * rows)\n",
    "        else:\n",
    "            print (\"*\" + \" \" * (rows-2)+ \"*\")\n",
    "\n",
    "print_hollow_square (10)"
   ]
  },
  {
   "cell_type": "code",
   "execution_count": 3,
   "id": "1c439327-e6d0-49ec-a989-22afdab823da",
   "metadata": {},
   "outputs": [
    {
     "name": "stdout",
     "output_type": "stream",
     "text": [
      "**********\n",
      "*********\n",
      "********\n",
      "*******\n",
      "******\n",
      "*****\n",
      "****\n",
      "***\n",
      "**\n",
      "*\n"
     ]
    }
   ],
   "source": [
    "#Pattern in Python Inverted Triangle\n",
    "\n",
    "def print_inverted_triangle (rows):\n",
    "    \n",
    "    for i in range (rows, 0, -1):\n",
    "        print (\"*\" * i)\n",
    "\n",
    "print_inverted_triangle (10)"
   ]
  },
  {
   "cell_type": "code",
   "execution_count": null,
   "id": "74736878-99d9-475d-8648-9c35dd8e5927",
   "metadata": {},
   "outputs": [],
   "source": []
  }
 ],
 "metadata": {
  "kernelspec": {
   "display_name": "Python 3 (ipykernel)",
   "language": "python",
   "name": "python3"
  },
  "language_info": {
   "codemirror_mode": {
    "name": "ipython",
    "version": 3
   },
   "file_extension": ".py",
   "mimetype": "text/x-python",
   "name": "python",
   "nbconvert_exporter": "python",
   "pygments_lexer": "ipython3",
   "version": "3.11.7"
  }
 },
 "nbformat": 4,
 "nbformat_minor": 5
}
