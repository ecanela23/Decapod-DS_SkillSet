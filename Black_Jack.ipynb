{
 "cells": [
  {
   "cell_type": "code",
   "execution_count": null,
   "id": "52dfd912-50f1-49a1-b8ad-d7b56c91c0a3",
   "metadata": {},
   "outputs": [],
   "source": [
    "# Python Comparisons Operators.\n",
    "\n",
    "## Note: In this exercise, A means ace, J means jack, Q means queen, and K means king. Jokers are discarded.\n",
    "\n",
    "### In Blackjack, it is up to each player if an ace is worth 1 or 11 points (more on that later).\n",
    "\n",
    "#### Face cards (J, Q, K) are scored at 10 points and any other card is worth its \"pip\" (numerical) value."
   ]
  },
  {
   "cell_type": "code",
   "execution_count": 4,
   "id": "6df86894-08aa-4ff9-b53e-53f2db4b2f3a",
   "metadata": {},
   "outputs": [
    {
     "name": "stdout",
     "output_type": "stream",
     "text": [
      "10\n",
      "4\n",
      "1\n"
     ]
    }
   ],
   "source": [
    "#BlackJack: Task I Define the value_of_card(<card>) function with parameter card.\n",
    "\n",
    "def value_of_card (card):\n",
    "    if card in ['J', 'Q', 'K',]:\n",
    "        return 10\n",
    "    elif card == 'A':\n",
    "        return 1\n",
    "    else:\n",
    "        return int(card)\n",
    "\n",
    "print (value_of_card ('K'))\n",
    "print (value_of_card ('4'))\n",
    "print (value_of_card ('A'))"
   ]
  },
  {
   "cell_type": "code",
   "execution_count": 9,
   "id": "008f744c-912e-4f84-8b03-2cb14e55ea3c",
   "metadata": {},
   "outputs": [
    {
     "name": "stdout",
     "output_type": "stream",
     "text": [
      "('K', '10')\n",
      "6\n",
      "K\n"
     ]
    }
   ],
   "source": [
    "#BlackJack: Task II Define the higher_card(<card_one>, <card_two>) function having parameters card_one and card_two card.\n",
    "## Returning both cards can be done by using a comma in the return statement.\n",
    "\n",
    "def higher_card (card_one, card_two):\n",
    "    value_one = value_of_card (card_one)\n",
    "    value_two = value_of_card (card_two)\n",
    "    if value_one > value_two:\n",
    "        return card_one\n",
    "    elif value_two > value_one:\n",
    "        return card_two\n",
    "    else:\n",
    "        return card_one, card_two\n",
    "\n",
    "print (higher_card ('K','10'))\n",
    "print (higher_card ('4', '6'))\n",
    "print (higher_card ('K', 'A'))"
   ]
  },
  {
   "cell_type": "code",
   "execution_count": 11,
   "id": "f51814ce-54f1-4da0-82f1-5279fb26ddb4",
   "metadata": {},
   "outputs": [
    {
     "name": "stdout",
     "output_type": "stream",
     "text": [
      "1\n",
      "11\n"
     ]
    }
   ],
   "source": [
    "#OPTION 1 TO CALCULATE THE VALUE OF ACE\n",
    "\n",
    "#BlackJack: Task III Calculate the value of an ace A can be both 1 or 11\n",
    "# Hint: if we already have an ace in hand, then the value for the upcoming ace would be 1.\n",
    "# >>> value_of_ace('6', 'K') >>> value_of_ace('7', '3')\n",
    "\n",
    "def value_of_ace (card_one, card_two):\n",
    "    value_one = value_of_card (card_one)\n",
    "    value_two = value_of_card (card_two)\n",
    "    if 'A' in [card_one, card_two]:\n",
    "        return 1\n",
    "    total = value_one + value_two\n",
    "    if total + 11 <=21:\n",
    "        return 11\n",
    "    else:\n",
    "        return 1\n",
    "print (value_of_ace ('6', 'K'))\n",
    "print (value_of_ace ('7', '3'))\n"
   ]
  },
  {
   "cell_type": "code",
   "execution_count": 12,
   "id": "ce89e537-b5a8-46a5-8e29-4b5f31a953cd",
   "metadata": {},
   "outputs": [
    {
     "name": "stdout",
     "output_type": "stream",
     "text": [
      "1\n",
      "11\n"
     ]
    }
   ],
   "source": [
    "#OPTION 2 TO CALCULATE THE VALUE OF ACE\n",
    "\n",
    "def value_of_ace(card_one, card_two):\n",
    "    value_one = value_of_card(card_one)\n",
    "    value_two = value_of_card(card_two)\n",
    "    \n",
    "    if card_one == 'A' or card_two == 'A':\n",
    "        return 1\n",
    "    \n",
    "    if value_one + value_two + 11 <= 21:\n",
    "        return 11\n",
    "    else:\n",
    "        return 1\n",
    "print (value_of_ace ('6', 'K'))\n",
    "print (value_of_ace ('7', '3'))\n"
   ]
  },
  {
   "cell_type": "code",
   "execution_count": 19,
   "id": "40d5b049-712a-45fb-9877-cf943045f6e1",
   "metadata": {},
   "outputs": [
    {
     "name": "stdout",
     "output_type": "stream",
     "text": [
      "True\n",
      "False\n"
     ]
    }
   ],
   "source": [
    "# Task III Define the is_blackjack(<card_one>, <card_two>) function with parameters card_one and card_two, which are a pair of cards. \n",
    "#Determine if the two-card hand is a blackjack, and return the boolean True if it is, False \n",
    "\n",
    "\n",
    "def black_jack (card_one, card_two):\n",
    "    black_jack_cards = {'10', 'J', 'Q', 'K'}\n",
    "    if (card_one == 'A' and card_two in black_jack_cards) or (card_two == 'A' and card_one in black_jack_cards):\n",
    "        return True\n",
    "    else:\n",
    "        return False\n",
    "\n",
    "print (black_jack ('A', 'K'))\n",
    "print (black_jack ('10', '9'))"
   ]
  },
  {
   "cell_type": "code",
   "execution_count": 20,
   "id": "be62661e-3084-4cde-b92d-2fc1b158181b",
   "metadata": {},
   "outputs": [
    {
     "name": "stdout",
     "output_type": "stream",
     "text": [
      "True\n",
      "False\n"
     ]
    }
   ],
   "source": [
    "# SPLITING CARDS Task IV Define the can_split_pairs(<card_one>, <card_two>) function with parameters card_one and card_two\n",
    "# If the hand can be split, return the boolean True otherwise, return False\n",
    "\n",
    "def can_split_pairs (card_one, card_two):\n",
    "    if card_one == card_two:\n",
    "        return True\n",
    "    elif card_one in ['J', 'Q', 'K'] and card_two in ['J', 'Q', 'K']:\n",
    "        return True\n",
    "    else:\n",
    "        return False \n",
    "\n",
    "print(can_split_pairs('Q', 'K'))\n",
    "print(can_split_pairs('10', 'A'))\n",
    "    \n",
    "    "
   ]
  },
  {
   "cell_type": "code",
   "execution_count": 22,
   "id": "94389244-4496-448d-a815-1ac3f8eb2f2f",
   "metadata": {},
   "outputs": [
    {
     "name": "stdout",
     "output_type": "stream",
     "text": [
      "True\n",
      "False\n"
     ]
    }
   ],
   "source": [
    "# DOUBLE DOWN Define the can_double_down(<card_one>, <card_two>) function with parameters card_one and card_two, which are a pair of cards.\n",
    "# Determine if the two-card hand can be \"doubled down\", and return the boolean True if it can, False otherwise.\n",
    "\n",
    "def can_double_down (card_one, card_two):\n",
    "    total = value_of_card(card_one) + value_of_card(card_two)\n",
    "    return total in [9, 10, 11]\n",
    "\n",
    "print(can_double_down('A', '9'))\n",
    "print(can_double_down('10', '2'))"
   ]
  },
  {
   "cell_type": "code",
   "execution_count": null,
   "id": "b3f66e6f-746b-46ab-b018-61a864f1d9ea",
   "metadata": {},
   "outputs": [],
   "source": []
  }
 ],
 "metadata": {
  "kernelspec": {
   "display_name": "Python 3 (ipykernel)",
   "language": "python",
   "name": "python3"
  },
  "language_info": {
   "codemirror_mode": {
    "name": "ipython",
    "version": 3
   },
   "file_extension": ".py",
   "mimetype": "text/x-python",
   "name": "python",
   "nbconvert_exporter": "python",
   "pygments_lexer": "ipython3",
   "version": "3.11.7"
  }
 },
 "nbformat": 4,
 "nbformat_minor": 5
}
